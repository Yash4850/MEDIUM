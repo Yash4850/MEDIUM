{
 "cells": [
  {
   "cell_type": "code",
   "execution_count": 1,
   "metadata": {},
   "outputs": [],
   "source": [
    "# importing Numpy and Pandas\n",
    "import numpy as np\n",
    "import pandas as pd"
   ]
  },
  {
   "cell_type": "code",
   "execution_count": 2,
   "metadata": {},
   "outputs": [
    {
     "data": {
      "text/html": [
       "<div>\n",
       "<style scoped>\n",
       "    .dataframe tbody tr th:only-of-type {\n",
       "        vertical-align: middle;\n",
       "    }\n",
       "\n",
       "    .dataframe tbody tr th {\n",
       "        vertical-align: top;\n",
       "    }\n",
       "\n",
       "    .dataframe thead th {\n",
       "        text-align: right;\n",
       "    }\n",
       "</style>\n",
       "<table border=\"1\" class=\"dataframe\">\n",
       "  <thead>\n",
       "    <tr style=\"text-align: right;\">\n",
       "      <th></th>\n",
       "      <th>x1</th>\n",
       "      <th>x2</th>\n",
       "      <th>x3</th>\n",
       "    </tr>\n",
       "  </thead>\n",
       "  <tbody>\n",
       "    <tr>\n",
       "      <th>0</th>\n",
       "      <td>0</td>\n",
       "      <td>0</td>\n",
       "      <td>0</td>\n",
       "    </tr>\n",
       "    <tr>\n",
       "      <th>1</th>\n",
       "      <td>0</td>\n",
       "      <td>0</td>\n",
       "      <td>1</td>\n",
       "    </tr>\n",
       "    <tr>\n",
       "      <th>2</th>\n",
       "      <td>0</td>\n",
       "      <td>1</td>\n",
       "      <td>0</td>\n",
       "    </tr>\n",
       "    <tr>\n",
       "      <th>3</th>\n",
       "      <td>0</td>\n",
       "      <td>1</td>\n",
       "      <td>1</td>\n",
       "    </tr>\n",
       "    <tr>\n",
       "      <th>4</th>\n",
       "      <td>1</td>\n",
       "      <td>0</td>\n",
       "      <td>0</td>\n",
       "    </tr>\n",
       "    <tr>\n",
       "      <th>5</th>\n",
       "      <td>1</td>\n",
       "      <td>0</td>\n",
       "      <td>1</td>\n",
       "    </tr>\n",
       "    <tr>\n",
       "      <th>6</th>\n",
       "      <td>1</td>\n",
       "      <td>1</td>\n",
       "      <td>0</td>\n",
       "    </tr>\n",
       "    <tr>\n",
       "      <th>7</th>\n",
       "      <td>1</td>\n",
       "      <td>1</td>\n",
       "      <td>1</td>\n",
       "    </tr>\n",
       "  </tbody>\n",
       "</table>\n",
       "</div>"
      ],
      "text/plain": [
       "   x1  x2  x3\n",
       "0   0   0   0\n",
       "1   0   0   1\n",
       "2   0   1   0\n",
       "3   0   1   1\n",
       "4   1   0   0\n",
       "5   1   0   1\n",
       "6   1   1   0\n",
       "7   1   1   1"
      ]
     },
     "execution_count": 2,
     "metadata": {},
     "output_type": "execute_result"
    }
   ],
   "source": [
    "# creating inputs\n",
    "AND = pd.DataFrame({'x1':(0,0,0,0,1,1,1,1),'x2':(0,0,1,1,0,0,1,1),'x3':(0,1,0,1,0,1,0,1),'y':(0,0,0,0,0,0,0,1)})\n",
    "inputs = AND[['x1','x2','x3']]\n",
    "inputs"
   ]
  },
  {
   "cell_type": "code",
   "execution_count": 3,
   "metadata": {},
   "outputs": [
    {
     "data": {
      "text/plain": [
       "0    0\n",
       "1    0\n",
       "2    0\n",
       "3    0\n",
       "4    0\n",
       "5    0\n",
       "6    0\n",
       "7    1\n",
       "Name: y, dtype: int64"
      ]
     },
     "execution_count": 3,
     "metadata": {},
     "output_type": "execute_result"
    }
   ],
   "source": [
    "# creating ouput\n",
    "output = AND['y']\n",
    "output"
   ]
  },
  {
   "cell_type": "code",
   "execution_count": 4,
   "metadata": {},
   "outputs": [
    {
     "data": {
      "text/plain": [
       "array([-9.17599467e-05, -1.69402191e-04, -5.85133079e-05,  5.93266067e-06])"
      ]
     },
     "execution_count": 4,
     "metadata": {},
     "output_type": "execute_result"
    }
   ],
   "source": [
    "# creating weights\n",
    "weights = np.random.randn(4)*1e-4\n",
    "weights"
   ]
  },
  {
   "cell_type": "code",
   "execution_count": 5,
   "metadata": {},
   "outputs": [],
   "source": [
    "# create activation function\n",
    "activation_function = lambda inputs,weights:np.where(np.dot(inputs,weights)>0,1,0) "
   ]
  },
  {
   "cell_type": "code",
   "execution_count": 6,
   "metadata": {},
   "outputs": [
    {
     "data": {
      "text/plain": [
       "array([[-1.],\n",
       "       [-1.],\n",
       "       [-1.],\n",
       "       [-1.],\n",
       "       [-1.],\n",
       "       [-1.],\n",
       "       [-1.],\n",
       "       [-1.]])"
      ]
     },
     "execution_count": 6,
     "metadata": {},
     "output_type": "execute_result"
    }
   ],
   "source": [
    "# creating bias\n",
    "bias = -np.ones((len(inputs),1))    \n",
    "bias"
   ]
  },
  {
   "cell_type": "code",
   "execution_count": 7,
   "metadata": {},
   "outputs": [],
   "source": [
    "# train function\n",
    "def train(inputs,output,weights,learning_factor,iterations):\n",
    "    inputs1 = np.c_[inputs,bias]   # stacking bias to input\n",
    "    for n in range(iterations):\n",
    "        activation = activation_function(inputs1,weights) #activation function\n",
    "        print(n,activation)\n",
    "        weights -= learning_factor*np.dot(np.transpose(inputs1), (activation - output)) # changing weights\n",
    "        print(n,weights)\n",
    "    return weights"
   ]
  },
  {
   "cell_type": "code",
   "execution_count": 9,
   "metadata": {},
   "outputs": [
    {
     "name": "stdout",
     "output_type": "stream",
     "text": [
      "0 [0 0 0 0 0 0 0 0]\n",
      "0 [0.99990824 0.9998306  0.99994149 5.00000593]\n",
      "1 [0 0 0 0 0 0 0 0]\n",
      "1 [1.99990824 1.9998306  1.99994149 4.00000593]\n",
      "2 [0 0 0 0 0 0 0 1]\n",
      "2 [1.99990824 1.9998306  1.99994149 4.00000593]\n",
      "3 [0 0 0 0 0 0 0 1]\n",
      "3 [1.99990824 1.9998306  1.99994149 4.00000593]\n",
      "4 [0 0 0 0 0 0 0 1]\n",
      "4 [1.99990824 1.9998306  1.99994149 4.00000593]\n",
      "5 [0 0 0 0 0 0 0 1]\n",
      "5 [1.99990824 1.9998306  1.99994149 4.00000593]\n",
      "6 [0 0 0 0 0 0 0 1]\n",
      "6 [1.99990824 1.9998306  1.99994149 4.00000593]\n",
      "7 [0 0 0 0 0 0 0 1]\n",
      "7 [1.99990824 1.9998306  1.99994149 4.00000593]\n",
      "8 [0 0 0 0 0 0 0 1]\n",
      "8 [1.99990824 1.9998306  1.99994149 4.00000593]\n",
      "9 [0 0 0 0 0 0 0 1]\n",
      "9 [1.99990824 1.9998306  1.99994149 4.00000593]\n",
      "10 [0 0 0 0 0 0 0 1]\n",
      "10 [1.99990824 1.9998306  1.99994149 4.00000593]\n",
      "11 [0 0 0 0 0 0 0 1]\n",
      "11 [1.99990824 1.9998306  1.99994149 4.00000593]\n",
      "12 [0 0 0 0 0 0 0 1]\n",
      "12 [1.99990824 1.9998306  1.99994149 4.00000593]\n",
      "13 [0 0 0 0 0 0 0 1]\n",
      "13 [1.99990824 1.9998306  1.99994149 4.00000593]\n",
      "14 [0 0 0 0 0 0 0 1]\n",
      "14 [1.99990824 1.9998306  1.99994149 4.00000593]\n",
      "15 [0 0 0 0 0 0 0 1]\n",
      "15 [1.99990824 1.9998306  1.99994149 4.00000593]\n",
      "16 [0 0 0 0 0 0 0 1]\n",
      "16 [1.99990824 1.9998306  1.99994149 4.00000593]\n",
      "17 [0 0 0 0 0 0 0 1]\n",
      "17 [1.99990824 1.9998306  1.99994149 4.00000593]\n",
      "18 [0 0 0 0 0 0 0 1]\n",
      "18 [1.99990824 1.9998306  1.99994149 4.00000593]\n",
      "19 [0 0 0 0 0 0 0 1]\n",
      "19 [1.99990824 1.9998306  1.99994149 4.00000593]\n"
     ]
    },
    {
     "data": {
      "text/plain": [
       "array([1.99990824, 1.9998306 , 1.99994149, 4.00000593])"
      ]
     },
     "execution_count": 9,
     "metadata": {},
     "output_type": "execute_result"
    }
   ],
   "source": [
    "#final output\n",
    "w = train(inputs,output,weights,1,20)\n",
    "w"
   ]
  }
 ],
 "metadata": {
  "kernelspec": {
   "display_name": "Python 3",
   "language": "python",
   "name": "python3"
  },
  "language_info": {
   "codemirror_mode": {
    "name": "ipython",
    "version": 3
   },
   "file_extension": ".py",
   "mimetype": "text/x-python",
   "name": "python",
   "nbconvert_exporter": "python",
   "pygments_lexer": "ipython3",
   "version": "3.7.6"
  }
 },
 "nbformat": 4,
 "nbformat_minor": 4
}
